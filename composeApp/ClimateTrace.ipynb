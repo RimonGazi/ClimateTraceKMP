{
 "cells": [
  {
   "cell_type": "code",
   "execution_count": 1,
   "metadata": {
    "collapsed": true,
    "ExecuteTime": {
     "end_time": "2023-12-14T20:30:26.886563Z",
     "start_time": "2023-12-14T20:30:12.698840Z"
    }
   },
   "outputs": [
    {
     "data": {
      "text/html": "            <iframe src='about:blank' style='border:none !important;' width='600' height='400' srcdoc=\"&lt;html lang=&quot;en&quot;>\n   &lt;head>\n       &lt;style> html, body { margin: 0; overflow: hidden; } &lt;/style>\n       &lt;script type=&quot;text/javascript&quot; data-lets-plot-script=&quot;library&quot; src=&quot;https://cdn.jsdelivr.net/gh/JetBrains/lets-plot@v4.0.1/js-package/distr/lets-plot.min.js&quot;>&lt;/script>\n   &lt;/head>\n   &lt;body>\n          &lt;div id=&quot;M4Y3uV&quot;>&lt;/div>\n   &lt;script type=&quot;text/javascript&quot; data-lets-plot-script=&quot;plot&quot;>\n       var plotSpec={\n&quot;ggtitle&quot;:{\n&quot;text&quot;:&quot;Emissions&quot;\n},\n&quot;mapping&quot;:{\n},\n&quot;data&quot;:{\n},\n&quot;kind&quot;:&quot;plot&quot;,\n&quot;scales&quot;:[{\n&quot;aesthetic&quot;:&quot;y&quot;,\n&quot;discrete&quot;:true,\n&quot;name&quot;:&quot;Sector&quot;\n},{\n&quot;aesthetic&quot;:&quot;x&quot;,\n&quot;name&quot;:&quot;Emissions (Million Tonnes)&quot;,\n&quot;limits&quot;:[null,null]\n}],\n&quot;layers&quot;:[{\n&quot;mapping&quot;:{\n&quot;y&quot;:&quot;y&quot;,\n&quot;x&quot;:&quot;x&quot;\n},\n&quot;stat&quot;:&quot;identity&quot;,\n&quot;orientation&quot;:&quot;y&quot;,\n&quot;data&quot;:{\n&quot;x&quot;:[42.39400100708008,26.072542190551758,16.40723991394043,13.206531524658203,12.22515869140625,10.285707473754883,6.425126075744629,6.053377151489258,5.927003383636475,5.160904407501221],\n&quot;y&quot;:[&quot;electricity-generation&quot;,&quot;road-transportation&quot;,&quot;international-aviation&quot;,&quot;international-shipping&quot;,&quot;oil-and-gas-refining&quot;,&quot;cement&quot;,&quot;other-manufacturing&quot;,&quot;steel&quot;,&quot;domestic-shipping&quot;,&quot;enteric-fermentation-cattle-pasture&quot;]\n},\n&quot;sampling&quot;:&quot;none&quot;,\n&quot;position&quot;:&quot;dodge&quot;,\n&quot;geom&quot;:&quot;bar&quot;\n}]\n};\n       var plotContainer = document.getElementById(&quot;M4Y3uV&quot;);\n       LetsPlot.buildPlotFromProcessedSpecs(plotSpec, -1, -1, plotContainer);\n   &lt;/script>\n   &lt;/body>\n&lt;/html>\"></iframe>            \n        <svg id=e222987f-4bb8-4152-b396-41c0822c69b8 xmlns=\"http://www.w3.org/2000/svg\" xmlns:xlink=\"http://www.w3.org/1999/xlink\" class=\"plt-container\" width=\"600.0\" height=\"400.0\">\n  <style type=\"text/css\">\n  .plt-container {\n   font-family: Lucida Grande, sans-serif;\n   user-select: none;\n   -webkit-user-select: none;\n   -moz-user-select: none;\n   -ms-user-select: none;\n}\ntext {\n   text-rendering: optimizeLegibility;\n}\n#pmp0rRY .plot-title {\n   fill: #474747;\n   font-family: Lucida Grande, sans-serif;\n   font-size: 16.0px;\n   font-weight: normal;\n   font-style: normal;   \n}\n#pmp0rRY .plot-subtitle {\n   fill: #474747;\n   font-family: Lucida Grande, sans-serif;\n   font-size: 15.0px;\n   font-weight: normal;\n   font-style: normal;   \n}\n#pmp0rRY .plot-caption {\n   fill: #474747;\n   font-family: Lucida Grande, sans-serif;\n   font-size: 13.0px;\n   font-weight: normal;\n   font-style: normal;   \n}\n#pmp0rRY .legend-title {\n   fill: #474747;\n   font-family: Lucida Grande, sans-serif;\n   font-size: 15.0px;\n   font-weight: normal;\n   font-style: normal;   \n}\n#pmp0rRY .legend-item {\n   fill: #474747;\n   font-family: Lucida Grande, sans-serif;\n   font-size: 13.0px;\n   font-weight: normal;\n   font-style: normal;   \n}\n#pmp0rRY .axis-title-x {\n   fill: #474747;\n   font-family: Lucida Grande, sans-serif;\n   font-size: 15.0px;\n   font-weight: normal;\n   font-style: normal;   \n}\n#pmp0rRY .axis-text-x {\n   fill: #474747;\n   font-family: Lucida Grande, sans-serif;\n   font-size: 13.0px;\n   font-weight: normal;\n   font-style: normal;   \n}\n#dq2b6ru .axis-tooltip-text-x {\n   fill: #ffffff;\n   font-family: Lucida Grande, sans-serif;\n   font-size: 13.0px;\n   font-weight: normal;\n   font-style: normal;   \n}\n#pmp0rRY .axis-title-y {\n   fill: #474747;\n   font-family: Lucida Grande, sans-serif;\n   font-size: 15.0px;\n   font-weight: normal;\n   font-style: normal;   \n}\n#pmp0rRY .axis-text-y {\n   fill: #474747;\n   font-family: Lucida Grande, sans-serif;\n   font-size: 13.0px;\n   font-weight: normal;\n   font-style: normal;   \n}\n#dq2b6ru .axis-tooltip-text-y {\n   fill: #ffffff;\n   font-family: Lucida Grande, sans-serif;\n   font-size: 13.0px;\n   font-weight: normal;\n   font-style: normal;   \n}\n#pmp0rRY .facet-strip-text-x {\n   fill: #474747;\n   font-family: Lucida Grande, sans-serif;\n   font-size: 13.0px;\n   font-weight: normal;\n   font-style: normal;   \n}\n#pmp0rRY .facet-strip-text-y {\n   fill: #474747;\n   font-family: Lucida Grande, sans-serif;\n   font-size: 13.0px;\n   font-weight: normal;\n   font-style: normal;   \n}\n#dq2b6ru .tooltip-text {\n   fill: #474747;\n   font-family: Lucida Grande, sans-serif;\n   font-size: 13.0px;\n   font-weight: normal;\n   font-style: normal;   \n}\n#dq2b6ru .tooltip-title {\n   fill: #474747;\n   font-family: Lucida Grande, sans-serif;\n   font-size: 13.0px;\n   font-weight: bold;\n   font-style: normal;   \n}\n#dq2b6ru .tooltip-label {\n   fill: #474747;\n   font-family: Lucida Grande, sans-serif;\n   font-size: 13.0px;\n   font-weight: bold;\n   font-style: normal;   \n}\n\n  </style>\n  <g id=\"pmp0rRY\">\n    <path fill-rule=\"evenodd\" fill=\"rgb(255,255,255)\" fill-opacity=\"1.0\" d=\"M0.0 0.0 L0.0 400.0 L600.0 400.0 L600.0 0.0 Z\">\n    </path>\n    <g transform=\"translate(23.0 34.0 ) \">\n      <g transform=\"translate(155.88704258083933 320.0 ) \">\n        <line x1=\"92.35649870782922\" y1=\"-0.0\" x2=\"92.35649870782922\" y2=\"-320.0\" stroke=\"rgb(233,233,233)\" stroke-opacity=\"1.0\" stroke-width=\"1.0\">\n        </line>\n        <line x1=\"184.71299741565844\" y1=\"-0.0\" x2=\"184.71299741565844\" y2=\"-320.0\" stroke=\"rgb(233,233,233)\" stroke-opacity=\"1.0\" stroke-width=\"1.0\">\n        </line>\n        <line x1=\"277.0694961234876\" y1=\"-0.0\" x2=\"277.0694961234876\" y2=\"-320.0\" stroke=\"rgb(233,233,233)\" stroke-opacity=\"1.0\" stroke-width=\"1.0\">\n        </line>\n        <line x1=\"369.42599483131687\" y1=\"-0.0\" x2=\"369.42599483131687\" y2=\"-320.0\" stroke=\"rgb(233,233,233)\" stroke-opacity=\"1.0\" stroke-width=\"1.0\">\n        </line>\n        <g transform=\"translate(0.0 0.0 ) \">\n          <line stroke-width=\"1.0\" stroke=\"rgb(71,71,71)\" stroke-opacity=\"1.0\" x2=\"0.0\" y2=\"4.0\">\n          </line>\n          <g transform=\"translate(0.0 7.0 ) \">\n            <text class=\"axis-text-x\" text-anchor=\"middle\" dy=\"0.7em\">\n            0\n            </text>\n          </g>\n        </g>\n        <g transform=\"translate(92.35649870782922 0.0 ) \">\n          <line stroke-width=\"1.0\" stroke=\"rgb(71,71,71)\" stroke-opacity=\"1.0\" x2=\"0.0\" y2=\"4.0\">\n          </line>\n          <g transform=\"translate(0.0 7.0 ) \">\n            <text class=\"axis-text-x\" text-anchor=\"middle\" dy=\"0.7em\">\n            10\n            </text>\n          </g>\n        </g>\n        <g transform=\"translate(184.71299741565844 0.0 ) \">\n          <line stroke-width=\"1.0\" stroke=\"rgb(71,71,71)\" stroke-opacity=\"1.0\" x2=\"0.0\" y2=\"4.0\">\n          </line>\n          <g transform=\"translate(0.0 7.0 ) \">\n            <text class=\"axis-text-x\" text-anchor=\"middle\" dy=\"0.7em\">\n            20\n            </text>\n          </g>\n        </g>\n        <g transform=\"translate(277.0694961234876 0.0 ) \">\n          <line stroke-width=\"1.0\" stroke=\"rgb(71,71,71)\" stroke-opacity=\"1.0\" x2=\"0.0\" y2=\"4.0\">\n          </line>\n          <g transform=\"translate(0.0 7.0 ) \">\n            <text class=\"axis-text-x\" text-anchor=\"middle\" dy=\"0.7em\">\n            30\n            </text>\n          </g>\n        </g>\n        <g transform=\"translate(369.42599483131687 0.0 ) \">\n          <line stroke-width=\"1.0\" stroke=\"rgb(71,71,71)\" stroke-opacity=\"1.0\" x2=\"0.0\" y2=\"4.0\">\n          </line>\n          <g transform=\"translate(0.0 7.0 ) \">\n            <text class=\"axis-text-x\" text-anchor=\"middle\" dy=\"0.7em\">\n            40\n            </text>\n          </g>\n        </g>\n        <line x1=\"0.0\" y1=\"0.0\" x2=\"411.1129574191607\" y2=\"0.0\" stroke-width=\"1.0\" stroke=\"rgb(71,71,71)\" stroke-opacity=\"1.0\">\n        </line>\n      </g>\n      <g transform=\"translate(155.88704258083933 0.0 ) \">\n        <line x1=\"0.0\" y1=\"299.80582524271847\" x2=\"411.1129574191607\" y2=\"299.80582524271847\" stroke=\"rgb(233,233,233)\" stroke-opacity=\"1.0\" stroke-width=\"1.0\">\n        </line>\n        <line x1=\"0.0\" y1=\"268.73786407766994\" x2=\"411.1129574191607\" y2=\"268.73786407766994\" stroke=\"rgb(233,233,233)\" stroke-opacity=\"1.0\" stroke-width=\"1.0\">\n        </line>\n        <line x1=\"0.0\" y1=\"237.66990291262138\" x2=\"411.1129574191607\" y2=\"237.66990291262138\" stroke=\"rgb(233,233,233)\" stroke-opacity=\"1.0\" stroke-width=\"1.0\">\n        </line>\n        <line x1=\"0.0\" y1=\"206.60194174757282\" x2=\"411.1129574191607\" y2=\"206.60194174757282\" stroke=\"rgb(233,233,233)\" stroke-opacity=\"1.0\" stroke-width=\"1.0\">\n        </line>\n        <line x1=\"0.0\" y1=\"175.5339805825243\" x2=\"411.1129574191607\" y2=\"175.5339805825243\" stroke=\"rgb(233,233,233)\" stroke-opacity=\"1.0\" stroke-width=\"1.0\">\n        </line>\n        <line x1=\"0.0\" y1=\"144.46601941747574\" x2=\"411.1129574191607\" y2=\"144.46601941747574\" stroke=\"rgb(233,233,233)\" stroke-opacity=\"1.0\" stroke-width=\"1.0\">\n        </line>\n        <line x1=\"0.0\" y1=\"113.39805825242718\" x2=\"411.1129574191607\" y2=\"113.39805825242718\" stroke=\"rgb(233,233,233)\" stroke-opacity=\"1.0\" stroke-width=\"1.0\">\n        </line>\n        <line x1=\"0.0\" y1=\"82.33009708737865\" x2=\"411.1129574191607\" y2=\"82.33009708737865\" stroke=\"rgb(233,233,233)\" stroke-opacity=\"1.0\" stroke-width=\"1.0\">\n        </line>\n        <line x1=\"0.0\" y1=\"51.26213592233009\" x2=\"411.1129574191607\" y2=\"51.26213592233009\" stroke=\"rgb(233,233,233)\" stroke-opacity=\"1.0\" stroke-width=\"1.0\">\n        </line>\n        <line x1=\"0.0\" y1=\"20.19417475728153\" x2=\"411.1129574191607\" y2=\"20.19417475728153\" stroke=\"rgb(233,233,233)\" stroke-opacity=\"1.0\" stroke-width=\"1.0\">\n        </line>\n        <g transform=\"translate(0.0 299.80582524271847 ) \">\n          <g transform=\"translate(-3.0 0.0 ) \">\n            <text class=\"axis-text-y\" text-anchor=\"end\" dy=\"0.35em\">\n            electricity-generati..\n            </text>\n          </g>\n        </g>\n        <g transform=\"translate(0.0 268.73786407766994 ) \">\n          <g transform=\"translate(-3.0 0.0 ) \">\n            <text class=\"axis-text-y\" text-anchor=\"end\" dy=\"0.35em\">\n            road-transportation\n            </text>\n          </g>\n        </g>\n        <g transform=\"translate(0.0 237.66990291262138 ) \">\n          <g transform=\"translate(-3.0 0.0 ) \">\n            <text class=\"axis-text-y\" text-anchor=\"end\" dy=\"0.35em\">\n            international-aviati..\n            </text>\n          </g>\n        </g>\n        <g transform=\"translate(0.0 206.60194174757282 ) \">\n          <g transform=\"translate(-3.0 0.0 ) \">\n            <text class=\"axis-text-y\" text-anchor=\"end\" dy=\"0.35em\">\n            international-shippi..\n            </text>\n          </g>\n        </g>\n        <g transform=\"translate(0.0 175.5339805825243 ) \">\n          <g transform=\"translate(-3.0 0.0 ) \">\n            <text class=\"axis-text-y\" text-anchor=\"end\" dy=\"0.35em\">\n            oil-and-gas-refining\n            </text>\n          </g>\n        </g>\n        <g transform=\"translate(0.0 144.46601941747574 ) \">\n          <g transform=\"translate(-3.0 0.0 ) \">\n            <text class=\"axis-text-y\" text-anchor=\"end\" dy=\"0.35em\">\n            cement\n            </text>\n          </g>\n        </g>\n        <g transform=\"translate(0.0 113.39805825242718 ) \">\n          <g transform=\"translate(-3.0 0.0 ) \">\n            <text class=\"axis-text-y\" text-anchor=\"end\" dy=\"0.35em\">\n            other-manufacturing\n            </text>\n          </g>\n        </g>\n        <g transform=\"translate(0.0 82.33009708737865 ) \">\n          <g transform=\"translate(-3.0 0.0 ) \">\n            <text class=\"axis-text-y\" text-anchor=\"end\" dy=\"0.35em\">\n            steel\n            </text>\n          </g>\n        </g>\n        <g transform=\"translate(0.0 51.26213592233009 ) \">\n          <g transform=\"translate(-3.0 0.0 ) \">\n            <text class=\"axis-text-y\" text-anchor=\"end\" dy=\"0.35em\">\n            domestic-shipping\n            </text>\n          </g>\n        </g>\n        <g transform=\"translate(0.0 20.19417475728153 ) \">\n          <g transform=\"translate(-3.0 0.0 ) \">\n            <text class=\"axis-text-y\" text-anchor=\"end\" dy=\"0.35em\">\n            enteric-fermentation..\n            </text>\n          </g>\n        </g>\n      </g>\n      <g transform=\"translate(155.88704258083933 0.0 ) \" clip-path=\"url(#c0xeDg3)\" clip-bounds-jfx=\"[rect (0.0, 0.0), (411.1129574191607, 320.0)]\">\n        <defs>\n          <clipPath id=\"c0xeDg3\">\n            <rect x=\"0.0\" y=\"0.0\" width=\"411.1129574191607\" height=\"320.0\">\n            </rect>\n          </clipPath>\n        </defs>\n        <rect x=\"0.0\" y=\"6.213592233009649\" height=\"27.961165048543705\" width=\"47.664306124261664\" stroke=\"rgb(255,255,255)\" stroke-opacity=\"1.0\" fill=\"rgb(17,142,216)\" fill-opacity=\"1.0\" stroke-width=\"1.6500000000000001\">\n        </rect>\n        <rect x=\"0.0\" y=\"37.281553398058236\" height=\"27.961165048543705\" width=\"54.73972803421215\" stroke=\"rgb(255,255,255)\" stroke-opacity=\"1.0\" fill=\"rgb(17,142,216)\" fill-opacity=\"1.0\" stroke-width=\"1.6500000000000001\">\n        </rect>\n        <rect x=\"0.0\" y=\"68.3495145631068\" height=\"27.961165048543705\" width=\"55.906871906952055\" stroke=\"rgb(255,255,255)\" stroke-opacity=\"1.0\" fill=\"rgb(17,142,216)\" fill-opacity=\"1.0\" stroke-width=\"1.6500000000000001\">\n        </rect>\n        <rect x=\"0.0\" y=\"99.41747572815532\" height=\"27.961165048543705\" width=\"59.340214811214864\" stroke=\"rgb(255,255,255)\" stroke-opacity=\"1.0\" fill=\"rgb(17,142,216)\" fill-opacity=\"1.0\" stroke-width=\"1.6500000000000001\">\n        </rect>\n        <rect x=\"0.0\" y=\"130.48543689320388\" height=\"27.961165048543705\" width=\"94.99519290089522\" stroke=\"rgb(255,255,255)\" stroke-opacity=\"1.0\" fill=\"rgb(17,142,216)\" fill-opacity=\"1.0\" stroke-width=\"1.6500000000000001\">\n        </rect>\n        <rect x=\"0.0\" y=\"161.55339805825244\" height=\"27.961165048543677\" width=\"112.90728528858685\" stroke=\"rgb(255,255,255)\" stroke-opacity=\"1.0\" fill=\"rgb(17,142,216)\" fill-opacity=\"1.0\" stroke-width=\"1.6500000000000001\">\n        </rect>\n        <rect x=\"0.0\" y=\"192.621359223301\" height=\"27.961165048543677\" width=\"121.97090116920012\" stroke=\"rgb(255,255,255)\" stroke-opacity=\"1.0\" fill=\"rgb(17,142,216)\" fill-opacity=\"1.0\" stroke-width=\"1.6500000000000001\">\n        </rect>\n        <rect x=\"0.0\" y=\"223.68932038834953\" height=\"27.961165048543705\" width=\"151.53152319108833\" stroke=\"rgb(255,255,255)\" stroke-opacity=\"1.0\" fill=\"rgb(17,142,216)\" fill-opacity=\"1.0\" stroke-width=\"1.6500000000000001\">\n        </rect>\n        <rect x=\"0.0\" y=\"254.75728155339806\" height=\"27.961165048543705\" width=\"240.79687091315162\" stroke=\"rgb(255,255,255)\" stroke-opacity=\"1.0\" fill=\"rgb(17,142,216)\" fill-opacity=\"1.0\" stroke-width=\"1.6500000000000001\">\n        </rect>\n        <rect x=\"0.0\" y=\"285.82524271844665\" height=\"27.96116504854365\" width=\"391.53614992301016\" stroke=\"rgb(255,255,255)\" stroke-opacity=\"1.0\" fill=\"rgb(17,142,216)\" fill-opacity=\"1.0\" stroke-width=\"1.6500000000000001\">\n        </rect>\n      </g>\n    </g>\n    <g transform=\"translate(178.88704258083933 15.2 ) \">\n      <text class=\"plot-title\" y=\"0.0\">\n      Emissions\n      </text>\n    </g>\n    <g transform=\"translate(14.5 194.0 ) rotate(-90.0 ) \">\n      <text class=\"axis-title-y\" y=\"0.0\" text-anchor=\"middle\">\n      Sector\n      </text>\n    </g>\n    <g transform=\"translate(384.44352129041965 391.5 ) \">\n      <text class=\"axis-title-x\" y=\"0.0\" text-anchor=\"middle\">\n      Emissions (Million Tonnes)\n      </text>\n    </g>\n    <path fill=\"rgb(0,0,0)\" fill-opacity=\"0.0\" stroke=\"rgb(71,71,71)\" stroke-opacity=\"1.0\" stroke-width=\"0.0\" d=\"M0.0 0.0 L0.0 400.0 L600.0 400.0 L600.0 0.0 Z\">\n    </path>\n  </g>\n  <g id=\"dq2b6ru\">\n  </g>\n</svg>\n        <script>document.getElementById(\"e222987f-4bb8-4152-b396-41c0822c69b8\").style.display = \"none\";</script>",
      "application/plot+json": {
       "output_type": "lets_plot_spec",
       "output": {
        "ggtitle": {
         "text": "Emissions"
        },
        "mapping": {},
        "data": {},
        "kind": "plot",
        "scales": [
         {
          "aesthetic": "y",
          "discrete": true,
          "name": "Sector"
         },
         {
          "aesthetic": "x",
          "name": "Emissions (Million Tonnes)",
          "limits": [
           null,
           null
          ]
         }
        ],
        "layers": [
         {
          "mapping": {
           "y": "y",
           "x": "x"
          },
          "stat": "identity",
          "orientation": "y",
          "data": {
           "x": [
            42.394,
            26.072542,
            16.40724,
            13.206532,
            12.225159,
            10.285707,
            6.425126,
            6.053377,
            5.9270034,
            5.1609044
           ],
           "y": [
            "electricity-generation",
            "road-transportation",
            "international-aviation",
            "international-shipping",
            "oil-and-gas-refining",
            "cement",
            "other-manufacturing",
            "steel",
            "domestic-shipping",
            "enteric-fermentation-cattle-pasture"
           ]
          },
          "sampling": "none",
          "position": "dodge",
          "geom": "bar"
         }
        ]
       },
       "apply_color_scheme": true,
       "swing_enabled": true
      }
     },
     "execution_count": 1,
     "metadata": {},
     "output_type": "execute_result"
    }
   ],
   "source": [
    "import dev.johnoreilly.climatetrace.remote.ClimateTraceApi\n",
    "import kotlinx.coroutines.runBlocking\n",
    "%use kandy\n",
    "\n",
    "runBlocking {\n",
    "    val api = ClimateTraceApi()\n",
    "    val emissionInfo = api.fetchCountryAssetEmissionsInfo(\"ESP\")[\"ESP\"]\n",
    "    val filteredEmissionsList = emissionInfo!!.sortedByDescending { it.emissions }.take(10)\n",
    "    val values = filteredEmissionsList.map { it.emissions / 1_000_000 }\n",
    "    val labels = filteredEmissionsList.map { it.sector }\n",
    "    \n",
    "    plot {\n",
    "        layout.title = \"Emissions\"\n",
    "        barsH {\n",
    "            y(labels) { axis.name = \"Sector\" }\n",
    "            x(values) { axis.name = \"Emissions (Million Tonnes)\" }\n",
    "        }\n",
    "    }    \n",
    "    \n",
    "}"
   ]
  }
 ],
 "metadata": {
  "kernelspec": {
   "display_name": "Kotlin",
   "language": "kotlin",
   "name": "kotlin"
  },
  "language_info": {
   "name": "kotlin",
   "version": "1.9.0",
   "mimetype": "text/x-kotlin",
   "file_extension": ".kt",
   "pygments_lexer": "kotlin",
   "codemirror_mode": "text/x-kotlin",
   "nbconvert_exporter": ""
  },
  "ktnbPluginMetadata": {
   "projectDependencies": [
    "github.ClimateTraceKMP.composeApp.desktopMain",
    "github.ClimateTraceKMP.composeApp.desktopTest",
    "github.ClimateTraceKMP.composeApp.wasmJsMain",
    "github.ClimateTraceKMP.composeApp.wasmJsTest"
   ]
  }
 },
 "nbformat": 4,
 "nbformat_minor": 0
}
